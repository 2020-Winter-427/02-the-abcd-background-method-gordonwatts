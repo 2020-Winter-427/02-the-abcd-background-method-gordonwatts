{
 "cells": [
  {
   "cell_type": "markdown",
   "metadata": {},
   "source": [
    "# The ABCD Method\n",
    "\n",
    "In this lab we will explore a typical data driven background method used in particle physics."
   ]
  },
  {
   "cell_type": "code",
   "execution_count": 1,
   "metadata": {},
   "outputs": [],
   "source": [
    "import numpy as np\n",
    "import matplotlib.pyplot as plt\n",
    "from sklearn import mixture\n",
    "import math"
   ]
  },
  {
   "cell_type": "markdown",
   "metadata": {},
   "source": [
    "## Introduction\n",
    "\n",
    "The method depends on 2 uncorrelated variables. As an example, lets create a uniform data distribution of random tuples and plot it over a plane. We then divide the plane into 4 regions, A, B, C, and D: (as a side note - it took me 43 iterations to get the plot below looking the way I wanted)"
   ]
  },
  {
   "cell_type": "code",
   "execution_count": 46,
   "metadata": {},
   "outputs": [
    {
     "data": {
      "image/png": "[encoded data removed]",
      "text/plain": [
       "<Figure size 432x288 with 1 Axes>"
      ]
     },
     "metadata": {
      "needs_background": "light"
     },
     "output_type": "display_data"
    }
   ],
   "source": [
    "data_flat = np.random.rand(1000, 2)\n",
    "xa = 0.6\n",
    "ya = 0.6\n",
    "plt.scatter(data[:, 0], data[:, 1], marker='.')\n",
    "plt.xlabel('x-variable')\n",
    "plt.ylabel('y-variable')\n",
    "plt.axvline(x=xa, color='r', linewidth=3)\n",
    "plt.axhline(y=ya, color='r', linewidth=3)\n",
    "plt.text(0.8, 0.8, 'A', color='r', fontsize='x-large', bbox=dict(color='w', alpha=1.0))\n",
    "plt.text(0.3, 0.8, 'B', color='r', fontsize='x-large', bbox=dict(color='w', alpha=1.0))\n",
    "plt.text(0.8, 0.3, 'C', color='r', fontsize='x-large', bbox=dict(color='w', alpha=1.0))\n",
    "_ = plt.text(0.3, 0.3, 'D', color='r', fontsize='x-large', bbox=dict(color='w', alpha=1.0))"
   ]
  },
  {
   "cell_type": "markdown",
   "metadata": {},
   "source": [
    "The ABCD method then says that the counts of events in the $A, B, C,$ and $D$ regions are related:\n",
    "\n",
    "$$A/C = B/D$$\n",
    "\n",
    "In a normal analysis one chooses the `x-variable` and `y-variable` to push all the signal into region A. Then in the experiment you can count data points in regions $B, C,$ and $D$ and determine what you should expect to see in $A$ because $A=BC/D$. You've now determined what you expect to see in $A$ is there were no signal. If you see more than that in $A$ (taking into account errors) then you've seen your signal!"
   ]
  },
  {
   "cell_type": "markdown",
   "metadata": {},
   "source": [
    "## Why does it work?\n",
    "\n",
    "It turns out this is quite general. Lets start by defining a function $f(x,y)$ that is valid over the plane. And the total number of events in the plane is:\n",
    "\n",
    "$$N = \\int_0^1 \\int_0^1 \\! f(x,y) \\, \\mathrm{d}x \\, \\mathrm{d}y$$\n",
    "\n",
    "We have arbitrarily taken the plane to go from $(0,1)$ here. Lets divide up the regions, as labeled in the plot above, at positions $x_a$ and $y_a$. Then we can sum up the everything in each region as follows:\n",
    "\n",
    "$$ A = \\int_{y_a}^1 \\int_{x_a}^1 \\! f(x,y) \\, \\mathrm{d}x \\, \\mathrm{d}y$$\n",
    "$$ B = \\int_{y_a}^1 \\int_0^{x_a} \\! f(x,y) \\, \\mathrm{d}x \\, \\mathrm{d}y$$\n",
    "$$ C = \\int_0^{y_a} \\int_{x_a}^1 \\! f(x,y) \\, \\mathrm{d}x \\, \\mathrm{d}y$$\n",
    "$$ D = \\int_0^{y_a} \\int_0^{x_a} \\! f(x,y) \\, \\mathrm{d}x \\, \\mathrm{d}y$$\n",
    "\n",
    "This looks intractable if we look at $A=BC/D$:\n",
    "\n",
    "$$ A = BC/D = \\frac{\\left(\\int_{y_a}^1 \\int_0^{x_a} \\! f(x,y) \\, \\mathrm{d}x \\, \\mathrm{d}y \\right) \\left( \\int_0^{y_a} \\int_{x_a}^1 \\! f(x,y) \\, \\mathrm{d}x \\, \\mathrm{d}y \\right)}{\\int_0^{y_a} \\int_0^{x_a} \\! f(x,y) \\, \\mathrm{d}x \\, \\mathrm{d}y}$$\n",
    "\n",
    "The key thing is that the variables `x-variable` and `y-variable` are chosen to be uncorrelated. This means:\n",
    "\n",
    "$$ f(x,y) = f_x(x) f_y(y)$$\n",
    "\n",
    "If we re-write the counts we find:\n",
    "\n",
    "$$ A = \\left( \\int_{y_a}^1 \\! f_y(y) \\, \\mathrm{d}y \\right) \\left( \\int_{x_a}^1 \\! f_x(x) \\, \\mathrm{d}x \\right) $$\n",
    "$$ B = \\left( \\int_{y_a}^1 \\! f_y(y) \\, \\mathrm{d}y \\right) \\left( \\int_0^{x_a} \\! f_x(x) \\, \\mathrm{d}x \\right) $$\n",
    "$$ C = \\left( \\int_0^{y_a} \\! f_y(y) \\, \\mathrm{d}y \\right) \\left( \\int_{x_a}^1 \\! f_x(x) \\, \\mathrm{d}x \\right) $$\n",
    "$$ D = \\left( \\int_0^{y_a} \\! f_y(y) \\, \\mathrm{d}y \\right) \\left( \\int_0^{x_a} \\! f_x(x) \\, \\mathrm{d}x \\right) $$\n",
    "\n",
    "And we can substitute that in for $BC/D$:\n",
    "\n",
    "$$\n",
    "\\begin{align}\n",
    "BC/D &= \\frac{\\left( \\int_{y_a}^1 \\! f_y(y) \\, \\mathrm{d}y \\right) \\left( \\int_0^{x_a} \\! f_x(x) \\, \\mathrm{d}x \\right) \\left( \\int_0^{y_a} \\! f_y(y) \\, \\mathrm{d}y \\right) \\left( \\int_{x_a}^1 \\! f_x(x) \\, \\mathrm{d}x \\right)}{\\left( \\int_0^{y_a} \\! f_y(y) \\, \\mathrm{d}y \\right) \\left( \\int_0^{x_a} \\! f_x(x) \\, \\mathrm{d}x \\right)} \\\\\n",
    "     &= \\left( \\int_{y_a}^1 \\! f_y(y) \\, \\mathrm{d}y \\right) \\left( \\int_{x_a}^1 \\! f_x(x) \\, \\mathrm{d}x \\right) \\\\\n",
    "     &= A\n",
    "\\end{align}\n",
    "$$\n",
    "\n",
    "In short, this is a generic statement - and can be made for almost any background that can be described by at least two uncorrelated axes "
   ]
  },
  {
   "cell_type": "markdown",
   "metadata": {},
   "source": [
    "## Test it out\n",
    "\n",
    "Lets calculate $A, B, C$, and $D$, and also $BC/D$ to see how well the prediction looks.\n",
    "\n",
    "There are lots of ways to count things in regions. I've seen people do `np.where` and other things when looking over their shoulders. I'll do my best to catalog them all and show them off to the class. I am using the `numpy` technique of creating a masked array. Each element of the array is `True` or `False` depending on some test. So, for example, each axis needs to be split into those above the line and below:"
   ]
  },
  {
   "cell_type": "code",
   "execution_count": 72,
   "metadata": {},
   "outputs": [],
   "source": [
    "data_above_x = data[:,0] >= xa\n",
    "data_above_y = data[:,1] >= ya"
   ]
  },
  {
   "cell_type": "markdown",
   "metadata": {},
   "source": [
    "Lets do a quick scatter plot of what we expect to be in for points above $x$:"
   ]
  },
  {
   "cell_type": "code",
   "execution_count": 59,
   "metadata": {},
   "outputs": [
    {
     "data": {
      "image/png": "[encoded data removed]",
      "text/plain": [
       "<Figure size 432x288 with 1 Axes>"
      ]
     },
     "metadata": {
      "needs_background": "light"
     },
     "output_type": "display_data"
    }
   ],
   "source": [
    "fig, ax = plt.subplots()\n",
    "_ = ax.scatter(data[data_above_x][:, 0], data[data_above_x][:, 1])\n",
    "ax.set_xlim([0,1])\n",
    "_ = ax.set_ylim([0,1])"
   ]
  },
  {
   "cell_type": "markdown",
   "metadata": {},
   "source": [
    "Now define the points in each region. This is, again, a masked array, not a count. Not we can manipulate things with standard logic, mostly..."
   ]
  },
  {
   "cell_type": "code",
   "execution_count": 73,
   "metadata": {},
   "outputs": [],
   "source": [
    "region_A = data_above_x & data_above_y\n",
    "region_B = np.logical_not(data_above_x) & data_above_y\n",
    "region_C = data_above_x & np.logical_not(data_above_y)\n",
    "region_D = np.logical_not(data_above_x) & np.logical_not(data_above_y)"
   ]
  },
  {
   "cell_type": "markdown",
   "metadata": {},
   "source": [
    "And, plot everything in region A as a test (this was a good thing, as I messed up my first definition of region A!). I used colors (some really bad ones!), but I also tried to use different markers here because about 10% of the population is color blind."
   ]
  },
  {
   "cell_type": "code",
   "execution_count": 68,
   "metadata": {},
   "outputs": [
    {
     "data": {
      "image/png": "[encoded data removed]",
      "text/plain": [
       "<Figure size 432x288 with 1 Axes>"
      ]
     },
     "metadata": {
      "needs_background": "light"
     },
     "output_type": "display_data"
    }
   ],
   "source": [
    "fig, ax = plt.subplots()\n",
    "_ = ax.scatter(data[region_A][:, 0], data[region_A][:, 1], color='black')\n",
    "_ = ax.scatter(data[region_B][:, 0], data[region_B][:, 1], color='blue', marker='.')\n",
    "_ = ax.scatter(data[region_C][:, 0], data[region_C][:, 1], color='red', marker='+')\n",
    "_ = ax.scatter(data[region_D][:, 0], data[region_D][:, 1], color='green', marker='_')\n",
    "ax.set_xlim([0,1])\n",
    "_ = ax.set_ylim([0,1])"
   ]
  },
  {
   "cell_type": "markdown",
   "metadata": {},
   "source": [
    "Now we can count and predict!"
   ]
  },
  {
   "cell_type": "code",
   "execution_count": 69,
   "metadata": {},
   "outputs": [
    {
     "data": {
      "text/plain": [
       "(162, 240, 216, 382)"
      ]
     },
     "execution_count": 69,
     "metadata": {},
     "output_type": "execute_result"
    }
   ],
   "source": [
    "counts_A, counts_B, counts_C, counts_D = np.sum(region_A), np.sum(region_B), np.sum(region_C), np.sum(region_D)\n",
    "counts_A, counts_B, counts_C, counts_D"
   ]
  },
  {
   "cell_type": "code",
   "execution_count": 71,
   "metadata": {},
   "outputs": [
    {
     "data": {
      "text/plain": [
       "135.7068062827225"
      ]
     },
     "execution_count": 71,
     "metadata": {},
     "output_type": "execute_result"
    }
   ],
   "source": [
    "predicted_A = counts_B*counts_C/counts_D\n",
    "predicted_A"
   ]
  },
  {
   "cell_type": "markdown",
   "metadata": {},
   "source": [
    "Ok - not too bad... but it is also hard to tell how good this is because it is off by a bit!"
   ]
  },
  {
   "cell_type": "markdown",
   "metadata": {},
   "source": [
    "## How good a prediction is this?\n",
    "\n",
    "To really test how good a prediction this is we need to run the above repeatedly, and then look to see how the differences is distributed. To do that we now need a function that does the calculation step-by-step."
   ]
  },
  {
   "cell_type": "code",
   "execution_count": 74,
   "metadata": {},
   "outputs": [],
   "source": [
    "def calc_ABCD_delta():\n",
    "    data = np.random.rand(1000, 2)\n",
    "    data_above_x = data[:,0] >= xa\n",
    "    data_above_y = data[:,1] >= ya\n",
    "    region_A = data_above_x & data_above_y\n",
    "    region_B = np.logical_not(data_above_x) & data_above_y\n",
    "    region_C = data_above_x & np.logical_not(data_above_y)\n",
    "    region_D = np.logical_not(data_above_x) & np.logical_not(data_above_y)\n",
    "    counts_A, counts_B, counts_C, counts_D = np.sum(region_A), np.sum(region_B), np.sum(region_C), np.sum(region_D)\n",
    "    predicted_A = counts_B*counts_C/counts_D\n",
    "    return counts_A-predicted_A"
   ]
  },
  {
   "cell_type": "code",
   "execution_count": 78,
   "metadata": {},
   "outputs": [
    {
     "data": {
      "text/plain": [
       "-2.0804289544235814"
      ]
     },
     "execution_count": 78,
     "metadata": {},
     "output_type": "execute_result"
    }
   ],
   "source": [
    "calc_ABCD_delta()"
   ]
  },
  {
   "cell_type": "markdown",
   "metadata": {},
   "source": [
    "I built that function up by cut-pasting from the above rows. If this was building towards something you wanted to keep around long-term, the fact that you wrote that function here might be a clue that it was time to start creating a python file and library that you import into the notebook (or many notebooks).\n",
    "\n",
    "Next, lets create a sequence of these guys and plot them. I'm going to use a generator expression for that, and turn it into a `numpy` array."
   ]
  },
  {
   "cell_type": "code",
   "execution_count": 92,
   "metadata": {},
   "outputs": [
    {
     "data": {
      "image/png": "[encoded data removed]",
      "text/plain": [
       "<Figure size 432x288 with 1 Axes>"
      ]
     },
     "metadata": {
      "needs_background": "light"
     },
     "output_type": "display_data"
    }
   ],
   "source": [
    "lots_of_trials = np.array([calc_ABCD_delta() for _ in range(0,5000)])\n",
    "_ = plt.hist(lots_of_trials, bins=20, range=(-80,80))"
   ]
  },
  {
   "cell_type": "markdown",
   "metadata": {},
   "source": [
    "That looks pretty gaussian. Lets calculate the standard deviation of that, and put it on the plot. And label the plot nicely!"
   ]
  },
  {
   "cell_type": "code",
   "execution_count": 91,
   "metadata": {},
   "outputs": [
    {
     "data": {
      "image/png": "[encoded data removed]",
      "text/plain": [
       "<Figure size 432x288 with 1 Axes>"
      ]
     },
     "metadata": {
      "needs_background": "light"
     },
     "output_type": "display_data"
    }
   ],
   "source": [
    "lots_of_trials = np.array([calc_ABCD_delta() for _ in range(0,5000)])\n",
    "std = np.std(lots_of_trials)\n",
    "plt.text(0.8, 0.9,f'$\\sigma$ = {std:.2f}', ha='center', va='center', transform=ax.transAxes)\n",
    "plt.text(0.8, 0.83,'5000 Trials', ha='center', va='center', transform=ax.transAxes)\n",
    "plt.hist(lots_of_trials, bins=20, range=(-80,80))\n",
    "plt.xlabel('Region A: Actual - Predicted')\n",
    "_ = plt.ylabel('Frequency')"
   ]
  },
  {
   "cell_type": "markdown",
   "metadata": {},
   "source": [
    "I had an ulterior motive for running that plot twice - I wanted to be sure to show how the distribution doesn't look exactly the same. Also, note how there are long tails - they look a bit non-gaussian. If you explore it further, you'll see there are longer tails than you would expect for a gaussian. This is connected with the fact that $A, B, C$, and $D$ aren't completely independent as we set the total number of points we generated to 1000."
   ]
  },
  {
   "cell_type": "markdown",
   "metadata": {},
   "source": [
    "## The Effect Of Statistics\n",
    "\n",
    "How do statistics affect this? Lets vary the number of points and look at the standard deviations that come from that. To do that, we'll create another function that basically does what the above cells did, but with a parameter for the statistics:"
   ]
  },
  {
   "cell_type": "code",
   "execution_count": 93,
   "metadata": {},
   "outputs": [],
   "source": [
    "# I'm going to call it number 1 - I am doing this to show the evolution. I suspect most people would keep modifying and improving the first instance above, which is fine!\n",
    "def calc_ABCD_delta_1(n=1000):\n",
    "    data = np.random.rand(n, 2)\n",
    "    data_above_x = data[:,0] >= xa\n",
    "    data_above_y = data[:,1] >= ya\n",
    "    region_A = data_above_x & data_above_y\n",
    "    region_B = np.logical_not(data_above_x) & data_above_y\n",
    "    region_C = data_above_x & np.logical_not(data_above_y)\n",
    "    region_D = np.logical_not(data_above_x) & np.logical_not(data_above_y)\n",
    "    counts_A, counts_B, counts_C, counts_D = np.sum(region_A), np.sum(region_B), np.sum(region_C), np.sum(region_D)\n",
    "    predicted_A = counts_B*counts_C/counts_D\n",
    "    return counts_A-predicted_A\n",
    "\n",
    "def calc_ABCD_std(n=1000):\n",
    "    lots_of_trials = np.array([calc_ABCD_delta_1(n) for _ in range(0,5000)])\n",
    "    return np.std(lots_of_trials)"
   ]
  },
  {
   "cell_type": "code",
   "execution_count": 94,
   "metadata": {},
   "outputs": [
    {
     "data": {
      "text/plain": [
       "(21.238840609575877, 66.31755120146109)"
      ]
     },
     "execution_count": 94,
     "metadata": {},
     "output_type": "execute_result"
    }
   ],
   "source": [
    "calc_ABCD_std(1000), calc_ABCD_std(10000)"
   ]
  },
  {
   "cell_type": "markdown",
   "metadata": {},
   "source": [
    "As you saw in class I didn't totally understand why the 10,000 trail version should have a larger standard deviation. Lets look at the plots of the two side-by-side:"
   ]
  },
  {
   "cell_type": "code",
   "execution_count": 107,
   "metadata": {},
   "outputs": [],
   "source": [
    "def plt_ABCD_diff(ax, n=1000):\n",
    "    lots_of_trials = np.array([calc_ABCD_delta_1(n) for _ in range(0,5000)])\n",
    "    std = np.std(lots_of_trials)\n",
    "    plt.hist(lots_of_trials, bins=20, range=(-150,150))\n",
    "    plt.text(0.8, 0.9,f'$\\sigma$ = {std:.2f}', ha='center', va='center', transform=ax.transAxes)\n",
    "    plt.text(0.8, 0.83,'5000 Trials', ha='center', va='center', transform=ax.transAxes)\n",
    "    plt.xlabel('Region A: Actual - Predicted')\n",
    "    _ = plt.ylabel('Frequency')"
   ]
  },
  {
   "cell_type": "code",
   "execution_count": 112,
   "metadata": {},
   "outputs": [
    {
     "data": {
      "image/png": "[encoded data removed]",
      "text/plain": [
       "<Figure size 1080x432 with 2 Axes>"
      ]
     },
     "metadata": {
      "needs_background": "light"
     },
     "output_type": "display_data"
    }
   ],
   "source": [
    "plt.figure(figsize=(15,6))\n",
    "ax = plt.subplot(121)\n",
    "plt_ABCD_diff(ax, n=1000)\n",
    "ax = plt.subplot(122)\n",
    "plt_ABCD_diff(ax, n=10000)"
   ]
  },
  {
   "cell_type": "markdown",
   "metadata": {},
   "source": [
    "What is going on here is exactly the same thing as $\\sqrt(N)$ statistics - $\\sqrt(N)$ gets larger as $N$ gets larger. We need to do what we normally do here: look at the fracitonal error. So divide by $N$ (which is $1/\\sqrt(N)$):"
   ]
  },
  {
   "cell_type": "code",
   "execution_count": 122,
   "metadata": {},
   "outputs": [],
   "source": [
    "def calc_ABCD_std_1(n=1000):\n",
    "    lots_of_trials = np.array([calc_ABCD_delta_1(n) for _ in range(0,5000)])\n",
    "    return np.std(lots_of_trials)/n"
   ]
  },
  {
   "cell_type": "code",
   "execution_count": 124,
   "metadata": {},
   "outputs": [
    {
     "data": {
      "text/plain": [
       "(0.02108732651752736, 0.006669883140420002)"
      ]
     },
     "execution_count": 124,
     "metadata": {},
     "output_type": "execute_result"
    }
   ],
   "source": [
    "calc_ABCD_std_1(1000), calc_ABCD_std_1(10000)"
   ]
  },
  {
   "cell_type": "markdown",
   "metadata": {},
   "source": [
    "Much better. Now, one more thing we need to watch out before we generate everything we need - the low statistics region:"
   ]
  },
  {
   "cell_type": "code",
   "execution_count": 125,
   "metadata": {},
   "outputs": [
    {
     "name": "stderr",
     "output_type": "stream",
     "text": [
      "i:\\anaconda3\\envs\\phys_427\\lib\\site-packages\\ipykernel_launcher.py:11: RuntimeWarning: divide by zero encountered in long_scalars\n",
      "  # This is added back by InteractiveShellApp.init_path()\n",
      "i:\\anaconda3\\envs\\phys_427\\lib\\site-packages\\numpy\\core\\_methods.py:193: RuntimeWarning: invalid value encountered in subtract\n",
      "  x = asanyarray(arr - arrmean)\n"
     ]
    },
    {
     "data": {
      "text/plain": [
       "nan"
      ]
     },
     "execution_count": 125,
     "metadata": {},
     "output_type": "execute_result"
    }
   ],
   "source": [
    "calc_ABCD_std_1(10)"
   ]
  },
  {
   "cell_type": "markdown",
   "metadata": {},
   "source": [
    "Yikes! This is coming from the fact that region $D$ sometimes has zero events in it! We have a few choices here - we can ignore it (that is, mask it out), or we can track it. We'll track it, as I was mentioning in class. It is useful to know how well this technique is going to do in really low statistics regions! This means a new ABCD calculator. The question is: how to pass the information back. I've decided to use a tuple for this:"
   ]
  },
  {
   "cell_type": "code",
   "execution_count": 154,
   "metadata": {},
   "outputs": [],
   "source": [
    "# I'm going to call it number 1 - I am doing this to show the evolution. I suspect most people would keep modifying and improving the first instance above, which is fine!\n",
    "def calc_ABCD_delta_2(n=1000):\n",
    "    '''\n",
    "    Calculate the difference between predicted and actual variables in the signal region of the ABCD method\n",
    "    for a random data distribution.\n",
    "    \n",
    "    If region D has zero events in it, we can't make the prediction. In that case we return nan.\n",
    "    \n",
    "    Args:\n",
    "        n          Number of events in the ABCD plane\n",
    "        \n",
    "    Returns\n",
    "        diff            The difference between expected and actual. Return nan if region D has zero in it.\n",
    "    '''\n",
    "    data = np.random.rand(n, 2)\n",
    "    data_above_x = data[:,0] >= xa\n",
    "    data_above_y = data[:,1] >= ya\n",
    "    region_A = data_above_x & data_above_y\n",
    "    region_B = np.logical_not(data_above_x) & data_above_y\n",
    "    region_C = data_above_x & np.logical_not(data_above_y)\n",
    "    region_D = np.logical_not(data_above_x) & np.logical_not(data_above_y)\n",
    "    counts_A, counts_B, counts_C, counts_D = np.sum(region_A), np.sum(region_B), np.sum(region_C), np.sum(region_D)\n",
    "    if counts_D == 0:\n",
    "        return math.nan\n",
    "    predicted_A = counts_B*counts_C/counts_D\n",
    "    return counts_A-predicted_A\n",
    "\n",
    "def calc_ABCD_std_2(n=1000):\n",
    "    '''\n",
    "    Calcualte the fractional standard deviation for running 5000 trials. Count the number that failed to do the prediction.\n",
    "    \n",
    "    Args:\n",
    "        n          How many trials to run each time\n",
    "    \n",
    "    Returns:\n",
    "        std        Standard deviation of fractional difference between predicted and actual\n",
    "        zero_count How many in region D had zero count?\n",
    "    '''\n",
    "    lots_of_trials = np.array([calc_ABCD_delta_2(n) for _ in range(0,5000)])\n",
    "    is_zero = np.isnan(lots_of_trials)\n",
    "    return (np.std(lots_of_trials[np.logical_not(is_zero)])/n, np.sum(is_zero))"
   ]
  },
  {
   "cell_type": "code",
   "execution_count": 155,
   "metadata": {},
   "outputs": [
    {
     "data": {
      "text/plain": [
       "(0.3284790763728703, 54)"
      ]
     },
     "execution_count": 155,
     "metadata": {},
     "output_type": "execute_result"
    }
   ],
   "source": [
    "calc_ABCD_std_2(10)"
   ]
  },
  {
   "cell_type": "markdown",
   "metadata": {},
   "source": [
    "Ok - now we have a function that gets us the information we want. Note I added comments as headers (`docstrings` in python). This is because the functions are now returning some more complex things, and it is good to provide programmer documentation. Because, at anytime you can do:"
   ]
  },
  {
   "cell_type": "code",
   "execution_count": 156,
   "metadata": {},
   "outputs": [
    {
     "name": "stdout",
     "output_type": "stream",
     "text": [
      "Help on function calc_ABCD_std_2 in module __main__:\n",
      "\n",
      "calc_ABCD_std_2(n=1000)\n",
      "    Calcualte the fractional standard deviation for running 5000 trials. Count the number that failed to do the prediction.\n",
      "    \n",
      "    Args:\n",
      "        n          How many trials to run each time\n",
      "    \n",
      "    Returns:\n",
      "        std        Standard deviation of fractional difference between predicted and actual\n",
      "        zero_count How many in region D had zero count?\n",
      "\n"
     ]
    }
   ],
   "source": [
    "help(calc_ABCD_std_2)"
   ]
  },
  {
   "cell_type": "markdown",
   "metadata": {},
   "source": [
    "How cool is that?\n",
    "\n",
    "Ok - lets make this plot with the error informaiton as a function of statistics!"
   ]
  },
  {
   "cell_type": "code",
   "execution_count": 226,
   "metadata": {},
   "outputs": [
    {
     "name": "stdout",
     "output_type": "stream",
     "text": [
      "Wall time: 7.19 s\n"
     ]
    }
   ],
   "source": [
    "%%time\n",
    "stat_list = [5, 10, 20, 50, 100, 500, 1000, 5000, 10000, 50000]\n",
    "stats_result = np.array([calc_ABCD_std_2(s) for s in stat_list])"
   ]
  },
  {
   "cell_type": "code",
   "execution_count": 227,
   "metadata": {},
   "outputs": [
    {
     "data": {
      "text/plain": [
       "array([[3.08549305e-01, 5.21000000e+02],\n",
       "       [3.16493877e-01, 5.70000000e+01],\n",
       "       [2.14270944e-01, 1.00000000e+00],\n",
       "       [1.02729725e-01, 0.00000000e+00],\n",
       "       [6.93941724e-02, 0.00000000e+00],\n",
       "       [2.97603598e-02, 0.00000000e+00],\n",
       "       [2.11073784e-02, 0.00000000e+00],\n",
       "       [9.52344819e-03, 0.00000000e+00],\n",
       "       [6.76222939e-03, 0.00000000e+00],\n",
       "       [2.99480328e-03, 0.00000000e+00]])"
      ]
     },
     "execution_count": 227,
     "metadata": {},
     "output_type": "execute_result"
    }
   ],
   "source": [
    "stats_result"
   ]
  },
  {
   "cell_type": "markdown",
   "metadata": {},
   "source": [
    "Ok - the trend looks good! Lets make a plot that gives us everything we need. I converted it to a `numpy` array to get nice and easy array slicing below."
   ]
  },
  {
   "cell_type": "code",
   "execution_count": 228,
   "metadata": {},
   "outputs": [
    {
     "data": {
      "text/plain": [
       "array([0.30854931, 0.31649388, 0.21427094, 0.10272973, 0.06939417,\n",
       "       0.02976036, 0.02110738, 0.00952345, 0.00676223, 0.0029948 ])"
      ]
     },
     "execution_count": 228,
     "metadata": {},
     "output_type": "execute_result"
    }
   ],
   "source": [
    "stats_result[:,0]"
   ]
  },
  {
   "cell_type": "code",
   "execution_count": 234,
   "metadata": {},
   "outputs": [
    {
     "data": {
      "image/png": "[encoded data removed]",
      "text/plain": [
       "<Figure size 432x288 with 2 Axes>"
      ]
     },
     "metadata": {
      "needs_background": "light"
     },
     "output_type": "display_data"
    }
   ],
   "source": [
    "fig, ax1 = plt.subplots()\n",
    "\n",
    "p1 = ax1.plot(stat_list, stats_result[:,0], 'o-', label='Error')[0]\n",
    "ax1.set_xscale('log')\n",
    "ax1.set_xlabel('Number of Samples')\n",
    "ax1.set_ylabel('Fractional Error')\n",
    "\n",
    "color = 'green'\n",
    "ax2 = ax1.twinx()\n",
    "ax2.set_ylabel('Fraction of Zeros', color=color)\n",
    "ax2.tick_params(axis='y', labelcolor=color)\n",
    "p2 = ax2.bar(stat_list, stats_result[:,1]/5000, color=color, label='Zeros')\n",
    "ax2.set_ylim([0,1.0])\n",
    "\n",
    "plots=[p1,p2]\n",
    "labs= [l.get_label() for l in plots]\n",
    "_ = ax2.legend(plots, labs)"
   ]
  },
  {
   "cell_type": "markdown",
   "metadata": {},
   "source": [
    "After seeing the above plot with the default scan value, I thought it would be nicer to add a few more poitns to show the trends. Which is what you see above. Note the behavior at for very small numbers. The problem there is that we are dividing by too large an $n$ - because half the n's have been removed. Fixing that, however, is beyond this HW. :-)"
   ]
  },
  {
   "cell_type": "code",
   "execution_count": null,
   "metadata": {},
   "outputs": [],
   "source": []
  }
 ],
 "metadata": {
  "kernelspec": {
   "display_name": "Python 3",
   "language": "python",
   "name": "python3"
  },
  "language_info": {
   "codemirror_mode": {
    "name": "ipython",
    "version": 3
   },
   "file_extension": ".py",
   "mimetype": "text/x-python",
   "name": "python",
   "nbconvert_exporter": "python",
   "pygments_lexer": "ipython3",
   "version": "3.7.6"
  }
 },
 "nbformat": 4,
 "nbformat_minor": 4
}
